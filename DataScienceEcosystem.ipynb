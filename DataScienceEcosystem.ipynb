{
 "cells": [
  {
   "cell_type": "markdown",
   "id": "0838efaf",
   "metadata": {},
   "source": [
    "<H1>Data Science Tools and Ecosystem</H1>"
   ]
  },
  {
   "cell_type": "markdown",
   "id": "540745d1",
   "metadata": {},
   "source": [
    "In this notebook, Data Science Tools and Ecosystem are summarized."
   ]
  },
  {
   "cell_type": "markdown",
   "id": "3b615ca2",
   "metadata": {},
   "source": [
    "Objectives:\n",
    " - List popular languages for Data Science\n",
    " - Table of commonly used Data Science Tools\n",
    " - Examples of evaluating arithmetic expression in Python"
   ]
  },
  {
   "cell_type": "markdown",
   "id": "01fcbc78",
   "metadata": {},
   "source": [
    "<H2>Author</H2>\n",
    "Nora"
   ]
  },
  {
   "cell_type": "markdown",
   "id": "1c8a74e6",
   "metadata": {},
   "source": [
    "Some of the popular languages that Data Scientists use are:"
   ]
  },
  {
   "cell_type": "markdown",
   "id": "b28b464d",
   "metadata": {},
   "source": [
    "1. Python\n",
    "2. R\n",
    "3. SQL\n",
    "4. JAVA\n",
    "5. C"
   ]
  },
  {
   "cell_type": "markdown",
   "id": "a8fe9fbe",
   "metadata": {},
   "source": [
    "| Data Science Tools |\n",
    "| :-----------------------: |\n",
    "|           R             |\n",
    "|     Scikit-learn       |\n",
    "|     TensorFlow       |\n",
    "\n",
    "\n"
   ]
  },
  {
   "cell_type": "markdown",
   "id": "991dac7d",
   "metadata": {},
   "source": [
    "Below are a few examples of evaluating arithmetic expressions in Python"
   ]
  },
  {
   "cell_type": "code",
   "execution_count": 1,
   "id": "8d6e9e47",
   "metadata": {},
   "outputs": [
    {
     "data": {
      "text/plain": [
       "17"
      ]
     },
     "execution_count": 1,
     "metadata": {},
     "output_type": "execute_result"
    }
   ],
   "source": [
    "(3*4)+5\n",
    "#This a simple arithmetic expression to mutiply then add integers"
   ]
  },
  {
   "cell_type": "code",
   "execution_count": 5,
   "id": "ba73a7e7",
   "metadata": {},
   "outputs": [
    {
     "name": "stdout",
     "output_type": "stream",
     "text": [
      "3.3333333333333335\n"
     ]
    }
   ],
   "source": [
    "#This will convert 200 minutes to hours by diving by 60\n",
    "minutes=200\n",
    "hours=minutes/60\n",
    "print(hours)"
   ]
  },
  {
   "cell_type": "markdown",
   "id": "75a39b93",
   "metadata": {},
   "source": []
  }
 ],
 "metadata": {
  "kernelspec": {
   "display_name": "Python 3 (ipykernel)",
   "language": "python",
   "name": "python3"
  },
  "language_info": {
   "codemirror_mode": {
    "name": "ipython",
    "version": 3
   },
   "file_extension": ".py",
   "mimetype": "text/x-python",
   "name": "python",
   "nbconvert_exporter": "python",
   "pygments_lexer": "ipython3",
   "version": "3.10.9"
  }
 },
 "nbformat": 4,
 "nbformat_minor": 5
}
